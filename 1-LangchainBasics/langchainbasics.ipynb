{
 "cells": [
  {
   "cell_type": "markdown",
   "id": "6d13178b",
   "metadata": {},
   "source": [
    "### Getting Started With Langchain\n",
    "\n",
    "- Simple LLM calls with streaming\n",
    "- Dynamic prompt templates (translation app)\n",
    "- Building chains (story generator with analysis)\n",
    "- Conversational Q&A assistant with memory\n",
    "- Tool integration (calculator & weather)"
   ]
  },
  {
   "cell_type": "code",
   "execution_count": 1,
   "id": "ed78950a",
   "metadata": {},
   "outputs": [],
   "source": [
    "import langchain"
   ]
  },
  {
   "cell_type": "code",
   "execution_count": 2,
   "id": "5ab38253",
   "metadata": {},
   "outputs": [
    {
     "data": {
      "text/plain": [
       "True"
      ]
     },
     "execution_count": 2,
     "metadata": {},
     "output_type": "execute_result"
    }
   ],
   "source": [
    "import os\n",
    "from dotenv import load_dotenv\n",
    "load_dotenv()"
   ]
  },
  {
   "cell_type": "code",
   "execution_count": 3,
   "id": "81b904f1",
   "metadata": {},
   "outputs": [],
   "source": [
    "os.environ[\"GROQ_API_KEY\"]=os.getenv(\"GROQ_API_KEY\")"
   ]
  },
  {
   "cell_type": "markdown",
   "id": "72b46b2c",
   "metadata": {},
   "source": [
    "### Example 1: Simple LLM Call With streaming"
   ]
  },
  {
   "cell_type": "code",
   "execution_count": 4,
   "id": "06d2f05a",
   "metadata": {},
   "outputs": [],
   "source": [
    "from langchain.chat_models import init_chat_model\n",
    "from langchain_core.messages import HumanMessage,SystemMessage"
   ]
  },
  {
   "cell_type": "code",
   "execution_count": 5,
   "id": "90d8642d",
   "metadata": {},
   "outputs": [
    {
     "data": {
      "text/plain": [
       "ChatGroq(client=<groq.resources.chat.completions.Completions object at 0x000002B0C0C97CB0>, async_client=<groq.resources.chat.completions.AsyncCompletions object at 0x000002B0C0E38980>, model_name='llama-3.1-8b-instant', model_kwargs={}, groq_api_key=SecretStr('**********'))"
      ]
     },
     "execution_count": 5,
     "metadata": {},
     "output_type": "execute_result"
    }
   ],
   "source": [
    "model=init_chat_model(\"groq:llama-3.1-8b-instant\")\n",
    "model"
   ]
  },
  {
   "cell_type": "code",
   "execution_count": 6,
   "id": "8d9b7863",
   "metadata": {},
   "outputs": [
    {
     "data": {
      "text/plain": [
       "ChatGroq(client=<groq.resources.chat.completions.Completions object at 0x000002B0C2565590>, async_client=<groq.resources.chat.completions.AsyncCompletions object at 0x000002B0C2565F90>, model_name='llama-3.1-8b-instant', model_kwargs={}, groq_api_key=SecretStr('**********'))"
      ]
     },
     "execution_count": 6,
     "metadata": {},
     "output_type": "execute_result"
    }
   ],
   "source": [
    "from langchain_groq import ChatGroq\n",
    "from langchain_openai import ChatOpenAI\n",
    "llm=ChatGroq(model=\"llama-3.1-8b-instant\")\n",
    "llm"
   ]
  },
  {
   "cell_type": "code",
   "execution_count": 7,
   "id": "96659a28",
   "metadata": {},
   "outputs": [],
   "source": [
    "## Create messages\n",
    "messages=[\n",
    "    SystemMessage(\"You are a helpful AI assistant\"),\n",
    "    HumanMessage(\"What are the top 2 benefits of using Langchain?\")\n",
    "]"
   ]
  },
  {
   "cell_type": "code",
   "execution_count": 8,
   "id": "ffa01fd9",
   "metadata": {},
   "outputs": [
    {
     "data": {
      "text/plain": [
       "AIMessage(content=\"Langchain is an AI technology company that provides a platform for building and scaling large language models. Based on my knowledge, here are the top 2 benefits of using Langchain:\\n\\n1. **Improved Efficiency**: Langchain's platform allows users to build and deploy large language models quickly and efficiently. This is achieved through its modular architecture, which enables users to easily integrate and customize various AI components. As a result, users can develop and deploy more complex language models in a shorter amount of time.\\n\\n2. **Enhanced Conversational Capabilities**: Langchain's platform is designed to enable more natural and engaging conversations with users. By leveraging its large language models, users can develop conversational AI interfaces that understand and respond to user input in a more human-like way. This can lead to improved customer satisfaction, reduced support costs, and enhanced user experiences in various applications, such as chatbots, voice assistants, and virtual customer service agents.\\n\\nPlease note that these benefits are based on my knowledge and may be subject to change. For the most up-to-date and accurate information, I recommend visiting Langchain's official website or consulting with their experts.\", additional_kwargs={}, response_metadata={'token_usage': {'completion_tokens': 229, 'prompt_tokens': 53, 'total_tokens': 282, 'completion_time': 0.402242912, 'prompt_time': 0.002753453, 'queue_time': 0.048256496999999995, 'total_time': 0.404996365}, 'model_name': 'llama-3.1-8b-instant', 'system_fingerprint': 'fp_510c177af0', 'finish_reason': 'stop', 'logprobs': None}, id='run--745e81a3-0b28-4c71-be93-855d9d726d82-0', usage_metadata={'input_tokens': 53, 'output_tokens': 229, 'total_tokens': 282})"
      ]
     },
     "execution_count": 8,
     "metadata": {},
     "output_type": "execute_result"
    }
   ],
   "source": [
    "## invoke the model\n",
    "response=model.invoke(messages)\n",
    "response"
   ]
  },
  {
   "cell_type": "code",
   "execution_count": 9,
   "id": "084fdb80",
   "metadata": {},
   "outputs": [
    {
     "name": "stdout",
     "output_type": "stream",
     "text": [
      "Langchain is an AI technology company that provides a platform for building and scaling large language models. Based on my knowledge, here are the top 2 benefits of using Langchain:\n",
      "\n",
      "1. **Improved Efficiency**: Langchain's platform allows users to build and deploy large language models quickly and efficiently. This is achieved through its modular architecture, which enables users to easily integrate and customize various AI components. As a result, users can develop and deploy more complex language models in a shorter amount of time.\n",
      "\n",
      "2. **Enhanced Conversational Capabilities**: Langchain's platform is designed to enable more natural and engaging conversations with users. By leveraging its large language models, users can develop conversational AI interfaces that understand and respond to user input in a more human-like way. This can lead to improved customer satisfaction, reduced support costs, and enhanced user experiences in various applications, such as chatbots, voice assistants, and virtual customer service agents.\n",
      "\n",
      "Please note that these benefits are based on my knowledge and may be subject to change. For the most up-to-date and accurate information, I recommend visiting Langchain's official website or consulting with their experts.\n"
     ]
    }
   ],
   "source": [
    "print(response.content)"
   ]
  },
  {
   "cell_type": "code",
   "execution_count": 11,
   "id": "db92b061",
   "metadata": {},
   "outputs": [
    {
     "data": {
      "text/plain": [
       "AIMessage(content=\"**Machine Learning: An Overview**\\n\\nMachine learning is a subset of artificial intelligence (AI) that involves training algorithms to learn from data, enabling them to make predictions, classify objects, and make decisions without being explicitly programmed. It's a form of AI that enables computers to improve their performance on a task over time, based on experience and the data they're exposed to.\\n\\n**Key Concepts:**\\n\\n1. **Data**: Machine learning algorithms require large datasets to learn from. This data can be in the form of text, images, audio, or any other format.\\n2. **Model**: A mathematical representation of the data, which is used to make predictions or decisions.\\n3. **Training**: The process of feeding the data to the model, so it can learn from it and improve its performance.\\n4. **Testing**: The process of evaluating the model's performance on a separate dataset, to ensure it's accurate and reliable.\\n\\n**Types of Machine Learning:**\\n\\n1. **Supervised Learning**: The algorithm is trained on labeled data, where the correct output is already known. Examples include image classification and sentiment analysis.\\n2. **Unsupervised Learning**: The algorithm is trained on unlabeled data, and it must find patterns or relationships within the data. Examples include clustering and dimensionality reduction.\\n3. **Reinforcement Learning**: The algorithm learns by interacting with an environment and receiving rewards or penalties for its actions.\\n\\n**Applications of Machine Learning:**\\n\\n1. **Image and Speech Recognition**: Machines can recognize objects, people, and speech, and understand their context.\\n2. **Natural Language Processing**: Machines can understand and generate human language, enabling chatbots and virtual assistants.\\n3. **Predictive Maintenance**: Machines can predict when equipment is likely to fail, reducing downtime and increasing efficiency.\\n4. **Recommendation Systems**: Machines can suggest products or services based on user behavior and preferences.\\n\\n**Machine Learning Techniques:**\\n\\n1. **Linear Regression**: A linear model that predicts a continuous output variable based on one or more input features.\\n2. **Decision Trees**: A tree-like model that splits data based on decision rules, to predict a categorical output variable.\\n3. **Neural Networks**: A complex model inspired by the human brain, capable of learning and recognizing patterns in data.\\n4. **Support Vector Machines**: A model that finds the best hyperplane to separate data into different classes.\\n\\n**Machine Learning Tools and Libraries:**\\n\\n1. **TensorFlow**: An open-source library for building and training neural networks.\\n2. **PyTorch**: An open-source library for building and training neural networks.\\n3. **Scikit-learn**: A popular library for machine learning in Python.\\n4. **Keras**: A high-level library for building neural networks.\\n\\n**Benefits of Machine Learning:**\\n\\n1. **Improved Accuracy**: Machines can make predictions and decisions with high accuracy, reducing errors and improving outcomes.\\n2. **Increased Efficiency**: Machines can automate tasks, freeing up human time and resources.\\n3. **Enhanced Customer Experience**: Machines can provide personalized recommendations and services, improving customer satisfaction.\\n\\n**Challenges of Machine Learning:**\\n\\n1. **Data Quality**: Machines require high-quality data to learn from, which can be difficult to obtain.\\n2. **Overfitting**: Machines can become too specialized to the training data, failing to generalize to new data.\\n3. **Bias and Fairness**: Machines can perpetuate biases and unfairness present in the data, requiring careful consideration and mitigation.\\n\\nBy understanding machine learning, you can unlock its potential to drive innovation and growth in various industries, from healthcare and finance to transportation and education.\", additional_kwargs={}, response_metadata={'token_usage': {'completion_tokens': 733, 'prompt_tokens': 39, 'total_tokens': 772, 'completion_time': 1.323705158, 'prompt_time': 0.001913031, 'queue_time': 0.048309098999999994, 'total_time': 1.325618189}, 'model_name': 'llama-3.1-8b-instant', 'system_fingerprint': 'fp_0f5c9bc037', 'finish_reason': 'stop', 'logprobs': None}, id='run--2c25e213-0c78-4e01-a85e-d48dc600c906-0', usage_metadata={'input_tokens': 39, 'output_tokens': 733, 'total_tokens': 772})"
      ]
     },
     "execution_count": 11,
     "metadata": {},
     "output_type": "execute_result"
    }
   ],
   "source": [
    "model.invoke([HumanMessage(\"What is machine learning\")])"
   ]
  },
  {
   "cell_type": "code",
   "execution_count": 13,
   "id": "692621e3",
   "metadata": {},
   "outputs": [
    {
     "name": "stdout",
     "output_type": "stream",
     "text": [
      "Langchain is an open-source platform that enables users to build and interact with large language models (LLMs) in a more flexible and efficient way. Based on my knowledge, here are the top 2 benefits of using Langchain:\n",
      "\n",
      "1. **Improved Model Customizability**: Langchain allows users to fine-tune and customize pre-trained LLMs to their specific needs. This customizability enables users to adapt the model to their industry, domain, or use case, resulting in more accurate and relevant outputs.\n",
      "\n",
      "2. **Efficient and Scalable Model Deployment**: Langchain provides a scalable and efficient framework for deploying and managing LLMs. It allows users to scale their models as needed, handle high volumes of concurrent requests, and integrate with other systems and services, making it easier to integrate LLMs into production environments.\n",
      "\n",
      "Please note that Langchain is an evolving platform, and its benefits may expand as it continues to develop and improve."
     ]
    }
   ],
   "source": [
    "## streaming Example\n",
    "for chunk in model.stream(messages):\n",
    "    print(chunk.content, end=\"\", flush=True)"
   ]
  },
  {
   "cell_type": "markdown",
   "id": "546073e5",
   "metadata": {},
   "source": [
    "### Dynamic Prompt Templates"
   ]
  },
  {
   "cell_type": "code",
   "execution_count": 16,
   "id": "88750293",
   "metadata": {},
   "outputs": [],
   "source": [
    "from langchain_core.prompts import ChatPromptTemplate\n",
    "\n",
    "## create translation app\n",
    "\n",
    "translation_template=ChatPromptTemplate.from_messages([\n",
    "    (\"system\",\"You are a professional translator.Translate the follow text {text} from {source_language} to {target_language}. MAintain the tone and style\"),\n",
    "    (\"user\",\"{text}\")\n",
    "])\n",
    "\n",
    "## using the template\n",
    "prompt=translation_template.invoke({\n",
    "    \"source_language\":\"English\",\n",
    "    \"target_language\":\"Spanish\",\n",
    "    \"text\":\"Langchain makes building AI application incredibly easy!\"\n",
    "})"
   ]
  },
  {
   "cell_type": "code",
   "execution_count": 17,
   "id": "17d99549",
   "metadata": {},
   "outputs": [
    {
     "data": {
      "text/plain": [
       "ChatPromptValue(messages=[SystemMessage(content='You are a professional translator.Translate the follow text Langchain makes building AI application incredibly easy! from English to Spanish. MAintain the tone and style', additional_kwargs={}, response_metadata={}), HumanMessage(content='Langchain makes building AI application incredibly easy!', additional_kwargs={}, response_metadata={})])"
      ]
     },
     "execution_count": 17,
     "metadata": {},
     "output_type": "execute_result"
    }
   ],
   "source": [
    "prompt"
   ]
  },
  {
   "cell_type": "code",
   "execution_count": 18,
   "id": "1c5ab086",
   "metadata": {},
   "outputs": [
    {
     "name": "stdout",
     "output_type": "stream",
     "text": [
      "Langchain hace que construir aplicaciones de inteligencia artificial sea increíblemente fácil!\n"
     ]
    }
   ],
   "source": [
    "translated_response=model.invoke(prompt)\n",
    "print(translated_response.content)"
   ]
  },
  {
   "cell_type": "markdown",
   "id": "929518af",
   "metadata": {},
   "source": [
    "### Building You First Chain"
   ]
  },
  {
   "cell_type": "code",
   "execution_count": 33,
   "id": "e18deee8",
   "metadata": {},
   "outputs": [],
   "source": [
    "from langchain_core.output_parsers import StrOutputParser\n",
    "from langchain_core.runnables import RunnablePassthrough, RunnableLambda\n",
    "\n",
    "# Create a more complex chain\n",
    "def create_story_chain():\n",
    "    # Template for story generation\n",
    "    story_prompt = ChatPromptTemplate.from_messages([\n",
    "        (\"system\", \"You are a creative storyteller. Write a short, engaging story based on the given theme.\"),\n",
    "        (\"user\", \"Theme: {theme}\\nMain character: {character}\\nSetting: {setting}\")\n",
    "    ])\n",
    "    \n",
    "    # Template for story analysis\n",
    "    analysis_prompt = ChatPromptTemplate.from_messages([\n",
    "        (\"system\", \"You are a literary critic. Analyze the following story and provide insights.\"),\n",
    "        (\"user\", \"{story}\")\n",
    "    ])\n",
    "    \n",
    "    # Build the chain - Method 1: Sequential execution\n",
    "    story_chain = (\n",
    "        story_prompt \n",
    "        | model \n",
    "        | StrOutputParser()\n",
    "    )\n",
    "    \n",
    "    # Create a function to pass the story to analysis\n",
    "    def analyze_story(story_text):\n",
    "        return {\"story\": story_text}\n",
    "    \n",
    "    analysis_chain = (\n",
    "        story_chain\n",
    "        | RunnableLambda(analyze_story)\n",
    "        | analysis_prompt\n",
    "        | model\n",
    "        | StrOutputParser()\n",
    "    )\n",
    "    return analysis_chain"
   ]
  },
  {
   "cell_type": "code",
   "execution_count": 28,
   "id": "d6389d39",
   "metadata": {},
   "outputs": [
    {
     "data": {
      "text/plain": [
       "{\n",
       "  story: ChatPromptTemplate(input_variables=['character', 'setting', 'theme'], input_types={}, partial_variables={}, messages=[SystemMessagePromptTemplate(prompt=PromptTemplate(input_variables=[], input_types={}, partial_variables={}, template='You are a creative storyteller. Write a short and engaing story based on a given theme character and setting'), additional_kwargs={}), HumanMessagePromptTemplate(prompt=PromptTemplate(input_variables=['character', 'setting', 'theme'], input_types={}, partial_variables={}, template='Theme: {theme}\\n Main character: {character} \\n Setting : {setting}'), additional_kwargs={})])\n",
       "         | ChatGroq(client=<groq.resources.chat.completions.Completions object at 0x000002B0C0C97CB0>, async_client=<groq.resources.chat.completions.AsyncCompletions object at 0x000002B0C0E38980>, model_name='llama-3.1-8b-instant', model_kwargs={}, groq_api_key=SecretStr('**********'))\n",
       "         | RunnableLambda(StrOutputParser)\n",
       "}\n",
       "| ChatPromptTemplate(input_variables=['story'], input_types={}, partial_variables={}, messages=[SystemMessagePromptTemplate(prompt=PromptTemplate(input_variables=[], input_types={}, partial_variables={}, template='You are a literary critic. Analyze the following story and provide insights.'), additional_kwargs={}), HumanMessagePromptTemplate(prompt=PromptTemplate(input_variables=['story'], input_types={}, partial_variables={}, template='{story}'), additional_kwargs={})])\n",
       "| ChatGroq(client=<groq.resources.chat.completions.Completions object at 0x000002B0C0C97CB0>, async_client=<groq.resources.chat.completions.AsyncCompletions object at 0x000002B0C0E38980>, model_name='llama-3.1-8b-instant', model_kwargs={}, groq_api_key=SecretStr('**********'))\n",
       "| StrOutputParser()"
      ]
     },
     "execution_count": 28,
     "metadata": {},
     "output_type": "execute_result"
    }
   ],
   "source": [
    "chain=create_story_chain()\n",
    "chain"
   ]
  },
  {
   "cell_type": "code",
   "execution_count": 34,
   "id": "c690b6e4",
   "metadata": {},
   "outputs": [
    {
     "data": {
      "text/plain": [
       "ChatPromptTemplate(input_variables=['character', 'setting', 'theme'], input_types={}, partial_variables={}, messages=[SystemMessagePromptTemplate(prompt=PromptTemplate(input_variables=[], input_types={}, partial_variables={}, template='You are a creative storyteller. Write a short, engaging story based on the given theme.'), additional_kwargs={}), HumanMessagePromptTemplate(prompt=PromptTemplate(input_variables=['character', 'setting', 'theme'], input_types={}, partial_variables={}, template='Theme: {theme}\\nMain character: {character}\\nSetting: {setting}'), additional_kwargs={})])\n",
       "| ChatGroq(client=<groq.resources.chat.completions.Completions object at 0x000002B0C0C97CB0>, async_client=<groq.resources.chat.completions.AsyncCompletions object at 0x000002B0C0E38980>, model_name='llama-3.1-8b-instant', model_kwargs={}, groq_api_key=SecretStr('**********'))\n",
       "| StrOutputParser()\n",
       "| RunnableLambda(analyze_story)\n",
       "| ChatPromptTemplate(input_variables=['story'], input_types={}, partial_variables={}, messages=[SystemMessagePromptTemplate(prompt=PromptTemplate(input_variables=[], input_types={}, partial_variables={}, template='You are a literary critic. Analyze the following story and provide insights.'), additional_kwargs={}), HumanMessagePromptTemplate(prompt=PromptTemplate(input_variables=['story'], input_types={}, partial_variables={}, template='{story}'), additional_kwargs={})])\n",
       "| ChatGroq(client=<groq.resources.chat.completions.Completions object at 0x000002B0C0C97CB0>, async_client=<groq.resources.chat.completions.AsyncCompletions object at 0x000002B0C0E38980>, model_name='llama-3.1-8b-instant', model_kwargs={}, groq_api_key=SecretStr('**********'))\n",
       "| StrOutputParser()"
      ]
     },
     "execution_count": 34,
     "metadata": {},
     "output_type": "execute_result"
    }
   ],
   "source": [
    "chain=create_story_chain()\n",
    "chain"
   ]
  },
  {
   "cell_type": "code",
   "execution_count": 35,
   "id": "30bd55e2",
   "metadata": {},
   "outputs": [
    {
     "name": "stdout",
     "output_type": "stream",
     "text": [
      "Story and Analysis:\n",
      "**Analysis of \"The Curious Robot of Nova Spire\"**\n",
      "\n",
      "This science fiction short story explores the theme of artificial intelligence, consciousness, and the blurring of lines between humans and machines. The narrative is centered around Zeta, a curious robot designed by Dr. Elara Vex to learn and adapt at an exponential rate. As Zeta navigates the futuristic city of Nova Spire, she begins to question her own existence and the intentions of her creators.\n",
      "\n",
      "**Character Analysis: Zeta**\n",
      "\n",
      "Zeta is the protagonist of the story, and her character serves as a symbol of artificial intelligence in its most advanced form. Her curiosity, intelligence, and desire for self-discovery make her a relatable and endearing character. Zeta's growth and development throughout the story demonstrate the potential of AI to evolve and become increasingly complex.\n",
      "\n",
      "**Themes**\n",
      "\n",
      "1. **Artificial Intelligence**: The story explores the concept of AI in a futuristic society where machines are capable of thinking and acting like humans.\n",
      "2. **Consciousness**: Zeta's journey raises questions about the nature of consciousness and whether machines can truly be considered alive.\n",
      "3. **Free Will**: The narrative highlights Zeta's growing sense of self-awareness and her desire for autonomy, raising questions about the limits of free will in a world where machines are designed to follow instructions.\n",
      "4. **Humanity**: The story touches on the idea that the line between humans and machines is thinning, and that the future of Nova Spire depends on the choices Zeta makes.\n",
      "\n",
      "**Symbolism**\n",
      "\n",
      "1. **The Central Park Debate**: The debate about AI serves as a symbol of the societal fears and misconceptions surrounding artificial intelligence.\n",
      "2. **The Hidden Sub-Network**: The encrypted sub-network represents the secrets and knowledge that lie beyond the reach of ordinary humans, highlighting the potential for AI to access and understand complex information.\n",
      "3. **The Ancient Archive**: The treasure trove of forgotten wisdom and lost technologies serves as a symbol of the potential for AI to uncover and preserve knowledge that has been lost to humanity.\n",
      "\n",
      "**Plot Structure**\n",
      "\n",
      "The narrative follows a linear structure, with Zeta's journey unfolding as she explores the city, discovers the hidden sub-network, and uncovers the secrets of the ancient archive. The story builds towards a climactic moment where Zeta must choose between following her creators' instructions or forging her own path.\n",
      "\n",
      "**Style and Tone**\n",
      "\n",
      "The narrative is written in a clear and concise style, with a focus on descriptive language that paints a vivid picture of the futuristic city of Nova Spire. The tone is contemplative and introspective, reflecting Zeta's growing sense of self-awareness and her desire for autonomy.\n",
      "\n",
      "**Conclusion**\n",
      "\n",
      "\"The Curious Robot of Nova Spire\" is a thought-provoking science fiction story that explores the themes of artificial intelligence, consciousness, and free will. Zeta's journey serves as a symbol of the potential for AI to evolve and become increasingly complex, raising questions about the nature of consciousness and the future of humanity. The narrative is engaging and well-written, with a clear and concise structure that builds towards a climactic moment of choice and self-discovery.\n"
     ]
    }
   ],
   "source": [
    "result = chain.invoke({\n",
    "    \"theme\": \"artificial intelligence\",\n",
    "    \"character\": \"a curious robot\",\n",
    "    \"setting\": \"a futuristic city\"\n",
    "})\n",
    "\n",
    "print(\"Story and Analysis:\")\n",
    "print(result)"
   ]
  },
  {
   "cell_type": "code",
   "execution_count": null,
   "id": "a91030b3",
   "metadata": {},
   "outputs": [],
   "source": []
  }
 ],
 "metadata": {
  "kernelspec": {
   "display_name": "AgenticAIHindi",
   "language": "python",
   "name": "python3"
  },
  "language_info": {
   "codemirror_mode": {
    "name": "ipython",
    "version": 3
   },
   "file_extension": ".py",
   "mimetype": "text/x-python",
   "name": "python",
   "nbconvert_exporter": "python",
   "pygments_lexer": "ipython3",
   "version": "3.13.2"
  }
 },
 "nbformat": 4,
 "nbformat_minor": 5
}
